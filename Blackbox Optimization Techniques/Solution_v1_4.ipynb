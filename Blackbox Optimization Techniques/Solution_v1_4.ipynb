{
  "nbformat": 4,
  "nbformat_minor": 0,
  "metadata": {
    "colab": {
      "name": "Solution v1.4.ipynb",
      "provenance": [],
      "collapsed_sections": []
    },
    "kernelspec": {
      "name": "python3",
      "display_name": "Python 3"
    },
    "accelerator": "GPU"
  },
  "cells": [
    {
      "cell_type": "markdown",
      "metadata": {
        "id": "VwrO12pf3cTz"
      },
      "source": [
        "# Project 3 - Black-Box Policy Optimization"
      ]
    },
    {
      "cell_type": "markdown",
      "metadata": {
        "id": "lflXMl-D3Yn6"
      },
      "source": [
        "### Import the environment from the course website\r\n"
      ]
    },
    {
      "cell_type": "code",
      "metadata": {
        "colab": {
          "base_uri": "https://localhost:8080/"
        },
        "id": "kqkHRKCT3YwK",
        "outputId": "8763175d-beb3-4145-80e6-6ad1b07fbdd5"
      },
      "source": [
        "!wget  -q https://sites.google.com/a/g.clemson.edu/cpsc-drl/assignments/hw3/project3.zip\r\n",
        "!unzip -q project3.zip"
      ],
      "execution_count": 2,
      "outputs": [
        {
          "output_type": "stream",
          "text": [
            "replace frogger_env/agent/frogger_agent.py? [y]es, [n]o, [A]ll, [N]one, [r]ename: A\n"
          ],
          "name": "stdout"
        }
      ]
    },
    {
      "cell_type": "code",
      "metadata": {
        "id": "dY1pwIRdMXOO",
        "colab": {
          "base_uri": "https://localhost:8080/"
        },
        "outputId": "1ed10ec1-aaf4-4bde-fa88-43f3b5586798"
      },
      "source": [
        "!apt-get update\r\n",
        "!apt-get install xvfb\r\n",
        "!apt-get install x11-utils\r\n",
        "!apt-get install ffmpeg\r\n",
        "!apt-get install python-opengl \r\n",
        "!pip -q install gym pyvirtualdisplay pygame\r\n",
        "!pip3 install box2d-py\r\n",
        "\r\n",
        "\r\n",
        "\"\"\"ENVIRONMENT\"\"\"\r\n",
        "import gym                                                                      #OpenAI gym \r\n",
        "import frogger_env\r\n",
        "gym.logger.set_level(40)                                                        #suppresses warning messages, displays only error messages\r\n",
        "\r\n",
        "\"\"\"MODELS AND TOOLS FOR OPTIMIZATION AND OTHER COMPUTATIONS\"\"\"\r\n",
        "import time\r\n",
        "import numpy as np\r\n",
        "import torch                                                                    #will use PyTorch to handle the NN \r\n",
        "import torch.nn as nn                                                           #contains various NN layers\r\n",
        "import torch.nn.functional as F                                                 #includes various functions such as convolution etc.\r\n",
        "import torch.optim as optim                                                     #contains various optimization algorithms\r\n",
        "import random\r\n",
        "from random import sample\r\n",
        "from collections import deque\r\n",
        "\r\n",
        "\"\"\"VISUALIZATION\"\"\"\r\n",
        "import matplotlib\r\n",
        "import matplotlib.pyplot as plt\r\n",
        "%matplotlib inline\r\n",
        "from IPython import display as ipythondisplay\r\n",
        "from pyvirtualdisplay import Display\r\n",
        "from gym.wrappers import Monitor\r\n",
        "import base64\r\n",
        "\r\n",
        "\"\"\"I/O\"\"\"\r\n",
        "import os\r\n",
        "from pathlib import Path"
      ],
      "execution_count": 3,
      "outputs": [
        {
          "output_type": "stream",
          "text": [
            "Hit:1 https://cloud.r-project.org/bin/linux/ubuntu bionic-cran40/ InRelease\n",
            "Get:2 http://security.ubuntu.com/ubuntu bionic-security InRelease [88.7 kB]\n",
            "Hit:3 http://ppa.launchpad.net/c2d4u.team/c2d4u4.0+/ubuntu bionic InRelease\n",
            "Hit:4 http://archive.ubuntu.com/ubuntu bionic InRelease\n",
            "Ign:5 https://developer.download.nvidia.com/compute/cuda/repos/ubuntu1804/x86_64  InRelease\n",
            "Get:6 http://archive.ubuntu.com/ubuntu bionic-updates InRelease [88.7 kB]\n",
            "Ign:7 https://developer.download.nvidia.com/compute/machine-learning/repos/ubuntu1804/x86_64  InRelease\n",
            "Hit:8 https://developer.download.nvidia.com/compute/cuda/repos/ubuntu1804/x86_64  Release\n",
            "Hit:9 http://ppa.launchpad.net/cran/libgit2/ubuntu bionic InRelease\n",
            "Hit:11 https://developer.download.nvidia.com/compute/machine-learning/repos/ubuntu1804/x86_64  Release\n",
            "Hit:12 http://ppa.launchpad.net/deadsnakes/ppa/ubuntu bionic InRelease\n",
            "Get:14 http://archive.ubuntu.com/ubuntu bionic-backports InRelease [74.6 kB]\n",
            "Hit:15 http://ppa.launchpad.net/graphics-drivers/ppa/ubuntu bionic InRelease\n",
            "Fetched 252 kB in 2s (120 kB/s)\n",
            "Reading package lists... Done\n",
            "Reading package lists... Done\n",
            "Building dependency tree       \n",
            "Reading state information... Done\n",
            "xvfb is already the newest version (2:1.19.6-1ubuntu4.8).\n",
            "0 upgraded, 0 newly installed, 0 to remove and 45 not upgraded.\n",
            "Reading package lists... Done\n",
            "Building dependency tree       \n",
            "Reading state information... Done\n",
            "x11-utils is already the newest version (7.7+3build1).\n",
            "0 upgraded, 0 newly installed, 0 to remove and 45 not upgraded.\n",
            "Reading package lists... Done\n",
            "Building dependency tree       \n",
            "Reading state information... Done\n",
            "ffmpeg is already the newest version (7:3.4.8-0ubuntu0.2).\n",
            "0 upgraded, 0 newly installed, 0 to remove and 45 not upgraded.\n",
            "Reading package lists... Done\n",
            "Building dependency tree       \n",
            "Reading state information... Done\n",
            "python-opengl is already the newest version (3.1.0+dfsg-1).\n",
            "0 upgraded, 0 newly installed, 0 to remove and 45 not upgraded.\n",
            "Requirement already satisfied: box2d-py in /usr/local/lib/python3.7/dist-packages (2.3.8)\n"
          ],
          "name": "stdout"
        }
      ]
    },
    {
      "cell_type": "markdown",
      "metadata": {
        "id": "dX26ge7C3nDw"
      },
      "source": [
        "### Display for visualization"
      ]
    },
    {
      "cell_type": "code",
      "metadata": {
        "id": "6V_9FNC3JKH_"
      },
      "source": [
        "display=Display(visible=0, size=(600, 400))\r\n",
        "display.start()\r\n",
        "\r\n",
        "#Define a simple helper function to visualize the episodes\r\n",
        "def show_video(path):\r\n",
        "    html = []\r\n",
        "    for mp4 in Path(path).glob(\"*.mp4\"):\r\n",
        "        video_b64 = base64.b64encode(mp4.read_bytes())\r\n",
        "        html.append('''<video alt=\"{}\" autoplay \r\n",
        "                      controls style=\"height: 400px;\">\r\n",
        "                      <source src=\"data:video/mp4;base64,{}\" type=\"video/mp4\" />\r\n",
        "                 </video>'''.format(mp4, video_b64.decode('ascii')))\r\n",
        "    ipythondisplay.display(ipythondisplay.HTML(data=\"<br>\".join(html)))"
      ],
      "execution_count": 4,
      "outputs": []
    },
    {
      "cell_type": "markdown",
      "metadata": {
        "id": "IHB73giw3p72"
      },
      "source": [
        "###Testing things out!"
      ]
    },
    {
      "cell_type": "code",
      "metadata": {
        "colab": {
          "base_uri": "https://localhost:8080/",
          "height": 421
        },
        "id": "XB43Ai86JTT6",
        "outputId": "6ccb53ef-a4be-4900-871e-060bcb73718a"
      },
      "source": [
        "env = gym.make(\"CartPole-v0\")\r\n",
        "env = Monitor(env, './video', force=True, video_callable=lambda episode: True)\r\n",
        "env.reset()\r\n",
        "done = False\r\n",
        "while not done:\r\n",
        "    action = 1\r\n",
        "    obs, reward, done, info = env.step(action)\r\n",
        "env.close()\r\n",
        "show_video('./video')"
      ],
      "execution_count": 5,
      "outputs": [
        {
          "output_type": "display_data",
          "data": {
            "text/html": [
              "<video alt=\"video/openaigym.video.0.59.video000000.mp4\" autoplay \n",
              "                      controls style=\"height: 400px;\">\n",
              "                      <source src=\"data:video/mp4;base64,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\" type=\"video/mp4\" />\n",
              "                 </video>"
            ],
            "text/plain": [
              "<IPython.core.display.HTML object>"
            ]
          },
          "metadata": {
            "tags": []
          }
        }
      ]
    },
    {
      "cell_type": "markdown",
      "metadata": {
        "id": "hJckGLox3vJY"
      },
      "source": [
        "The observation that the agent receives is its position, the goal position, and a unit vector that points from the agent's position to the goal.\r\n",
        "\r\n",
        "The action space consists of four actions 0: move up, 1: move down, 2: move right 3: move left"
      ]
    },
    {
      "cell_type": "code",
      "metadata": {
        "colab": {
          "base_uri": "https://localhost:8080/"
        },
        "id": "F-WeT91LJV-E",
        "outputId": "6cd1f11e-ca89-4e07-cb00-3c9b1c9d83b1"
      },
      "source": [
        "print('observation space:', env.observation_space)\r\n",
        "print('action space:', env.action_space)"
      ],
      "execution_count": 6,
      "outputs": [
        {
          "output_type": "stream",
          "text": [
            "observation space: Box(-3.4028234663852886e+38, 3.4028234663852886e+38, (4,), float32)\n",
            "action space: 2\n"
          ],
          "name": "stdout"
        }
      ]
    },
    {
      "cell_type": "markdown",
      "metadata": {
        "id": "IA4NzGIe31ND"
      },
      "source": [
        "###Some useful functions"
      ]
    },
    {
      "cell_type": "code",
      "metadata": {
        "id": "kGr_AmdO34aV"
      },
      "source": [
        "from google.colab import drive\r\n",
        "from google.colab import files\r\n",
        "\r\n",
        "def save_checkpoint(model, filename, mode=0):\r\n",
        "    \"\"\"\r\n",
        "    Save a model to a file in your colab space \r\n",
        "        \r\n",
        "    Parameters\r\n",
        "    ----------\r\n",
        "    model: your policy network\r\n",
        "    filename: the name of the checkpoint file\r\n",
        "    mode (int): determines where to store the file\r\n",
        "                --> 0: collab space 1: Google Drive\r\n",
        "    \"\"\"\r\n",
        "    if mode == 1: \r\n",
        "      drive.mount('/content/gdrive')\r\n",
        "      path = F\"/content/gdrive/My Drive/{filename}\" \r\n",
        "      torch.save(model.state_dict(), path)\r\n",
        "    else:\r\n",
        "      torch.save(model.state_dict(), filename)\r\n",
        "\r\n",
        "def export_to_local_drive(filename):\r\n",
        "    \"\"\"\r\n",
        "    Download a file to your local machine \r\n",
        "        \r\n",
        "    Parameters\r\n",
        "    ----------\r\n",
        "    filename: the name of the file\r\n",
        "    \"\"\"\r\n",
        "    files.download(filename)"
      ],
      "execution_count": 5,
      "outputs": []
    },
    {
      "cell_type": "markdown",
      "metadata": {
        "id": "65VB-bZ037hz"
      },
      "source": [
        "###Cross Entropy Method\r\n",
        "Implement below the cross-entropy method to solve the reacher-v0 environment and enable the agent to learn to navigate to a fixed goal position on a static highway map. Please, refer to the project descriprtion and lecture 13 for more details."
      ]
    },
    {
      "cell_type": "code",
      "metadata": {
        "colab": {
          "base_uri": "https://localhost:8080/"
        },
        "id": "mGOZAN4EMnWZ",
        "outputId": "7eaab53d-2375-447b-a45a-e0f91b43febf"
      },
      "source": [
        "from scipy.stats import norm\r\n",
        "\"\"\"SWITCH TO A GPU IF ONE IS AVAILABLE\"\"\"\r\n",
        "device=torch.device(\"cuda:0\" if torch.cuda.is_available() else \"cpu\")\r\n",
        "\r\n",
        "\r\n",
        "\r\n",
        "\"\"\"DEFINITION OF THE ARCHITECTURE AND THE ATTRIBUTES OF THE NEURAL NETWORK\"\"\"\r\n",
        "class network(nn.Module):\r\n",
        "  def __init__(self,observations,actions,hu1,hu2,hu3):\r\n",
        "    super(network, self).__init__()\r\n",
        "    self.l1=nn.Linear(observations,hu1)                                         #layer1 is a fully-connected layer with #I/P=observations and #hidden units=hu1\r\n",
        "    self.l2=nn.Linear(hu1,actions)                                              #layer2 is a fully-connected layer with #I/P=hu1 and #hidden units=actions\r\n",
        "    #self.l3=nn.Linear(hu2,actions)\r\n",
        "    #initialize interconnection weights and bias weights using a probability\r\n",
        "    #distribution (code below is for a normal distribution with μ=0 and σ=1)\r\n",
        "    #nn.init.normal_(self.l1.weight.data,mean=0,std=1)\r\n",
        "    #nn.init.normal_(self.l1.bias.data,mean=0,std=1)\r\n",
        "    #nn.init.normal_(self.l2.weight.data,mean=0,std=1)\r\n",
        "    #nn.init.normal_(self.l2.bias.data,mean=0,std=1)\r\n",
        "    #nn.init.normal_(self.l3.weight.data,mean=0,std=1)\r\n",
        "    #nn.init.normal_(self.l3.bias.data,mean=0,std=1)\r\n",
        "\r\n",
        "  def forward(self, x):                                                         #forward propagation function\r\n",
        "    if not isinstance(x,torch.Tensor):                                          #check if the I/P is a tensor or not\r\n",
        "      x=torch.tensor(x,device=device,dtype=torch.float32)                       #convert the I/P to a tensor and move it to 'device'\r\n",
        "      x=x.unsqueeze(0)\r\n",
        "    x=F.relu(self.l1(x))\r\n",
        "    #x=F.relu(self.l2(x))\r\n",
        "    x=F.tanh(self.l2(x))\r\n",
        "    return x\r\n",
        "\r\n",
        "\r\n",
        "\r\n",
        "\"\"\"DEFINITION OF THE CHARACTERISTICS AND ATTRIBUTES OF THE CEM AGENT\"\"\"\r\n",
        "class CEMagent():\r\n",
        "  def __init__(self,observations,actions,hu1,hu2,hu3):\r\n",
        "    self.policynet=network(observations,actions,hu1,hu2,hu3).to(device)         #define a policy-network object of type 'network', initialize its weights θ randomly and move it to the GPU\r\n",
        "    self.tempnet=network(observations,actions,hu1,hu2,hu3).to(device)           #define a dummy netowrk object of type 'network', initialize its weights θ randomly and move it to the GPU\r\n",
        "\r\n",
        "  def train(self, env,seed,gamma,mean,sigma,n,k,maxIterations):\r\n",
        "    self.gamma=gamma\r\n",
        "    self.mean=mean\r\n",
        "    self.sigma=sigma\r\n",
        "    self.dimension=sum(p.numel() for p in self.policynet.parameters())\r\n",
        "    torch.manual_seed(seed) \r\n",
        "    np.random.seed(seed)\r\n",
        "    random.seed(seed)\r\n",
        "    env.seed(seed)\r\n",
        "    self.evalScoreIteration=[]                                                  #stores evaluation score at the end of each weigth update\r\n",
        "    iterations=0\r\n",
        "    while iterations<maxIterations:\r\n",
        "      iterations+=1      \r\n",
        "      theta_is=[]                                                               #stores all perturbations of θ\r\n",
        "      for i in range(n):                                                        #run this loop 'n' times to collect 'n' perturbations of θ\r\n",
        "        theta_is.append(self.perturbations())\r\n",
        "      G_is=self.rollOut(env,theta_is)                                           #call this function to perform a roll-out corresponding to each θ, and calculate the corresponding reward R(τi)\r\n",
        "      indices=np.argsort(G_is)[-k:].tolist()                                    #extract indices of the highest k% of Gi where Gi=R(τi)\r\n",
        "      theta_is=[theta_is[index] for index in indices]                           #use the extracted indices to identify the corresponding θi\r\n",
        "      self.weightUpdate(theta_is)                                               #update the weights of the policy network using the identifed θi \r\n",
        "      evalScore=self.evaluate(env)                                              #perform a roll-out after each round of weight update            \r\n",
        "      self.evalScoreIteration.append(evalScore)      \r\n",
        "      print('Iteration#: {:d}\\tEvaluation reward: {:.2f}\\tMean evaluation reward: {:.2f}\\tSTD of evaluation reward: {:.2f}'.format(iterations,evalScore,np.mean(self.evalScoreIteration),np.std(self.evalScoreIteration)))\r\n",
        "      if np.mean(self.evalScoreIteration)>=160.0 and iterations!=1:\r\n",
        "        break\r\n",
        "    return self.evalScoreIteration\r\n",
        "\r\n",
        "  def perturbations(self):\r\n",
        "    temp=torch.cat([parameter.view(-1) for parameter in self.policynet.parameters()])\r\n",
        "    perturbation=temp+(self.mean+(self.sigma*torch.randn(self.dimension).to(device)))\r\n",
        "    return perturbation\r\n",
        "\r\n",
        "  def rollOut(self,env,theta_is):\r\n",
        "    R=[]                                                                        #list stores R(τi) of each τi\r\n",
        "    for i in theta_is:\r\n",
        "      temp=self.tempnet.state_dict()\r\n",
        "      theta_i=torch.tensor(i).to(device)\r\n",
        "      lLimit,hLimit=0,0\r\n",
        "      for label,parameter in zip(temp,self.tempnet.parameters()):               #iterate over each label of 'temp' and each parameter of the policy network\r\n",
        "        hLimit=lLimit+sum(p.numel() for p in temp[label])\r\n",
        "        temp[label]=torch.reshape(theta_i[lLimit:hLimit],temp[label].size())    #generate a perturbation of the current parameter using the expression θ=θ+σε\r\n",
        "        lLimit=hLimit\r\n",
        "      self.tempnet.load_state_dict(temp)\r\n",
        "      terminal=False\r\n",
        "      numExperiences=0\r\n",
        "      s=env.reset()\r\n",
        "      R.append(0.0)\r\n",
        "      while not terminal:\r\n",
        "        s=torch.tensor(s).type(torch.FloatTensor).to(device)\r\n",
        "        with torch.no_grad():\r\n",
        "          Q=self.tempnet(s).cpu().detach().data.numpy().squeeze()\r\n",
        "        action=np.argmax(Q)\r\n",
        "        sP,r,terminal,info=env.step(action)\r\n",
        "        s=sP\r\n",
        "        numExperiences+=1\r\n",
        "        R[-1]+=(self.gamma**(numExperiences-1))*r                               #sum of discounted rewards of the current trajectory\r\n",
        "    return R\r\n",
        "\r\n",
        "  def weightUpdate(self,theta_is):                                              #this function updates the weights of the policy network\r\n",
        "    temp=self.policynet.state_dict()                                            #create a copy of the weights of the policy network\r\n",
        "    for label,parameter in zip(temp,self.policynet.parameters()):               #iterate over each label of 'temp' and each parameter of the policy network\r\n",
        "      temp[label]=torch.zeros_like(parameter)                                   #initialize all weights to zeros\r\n",
        "    for i in theta_is:                                                          #loop over each selected θi\r\n",
        "      theta_i=torch.tensor(i).to(device)                                        #convert selected θi to tensor\r\n",
        "      lLimit,hLimit=0,0\r\n",
        "      for label in temp:                                                        #loop over each label of 'temp'\r\n",
        "        hLimit=lLimit+sum(parameter.numel() for parameter in temp[label])\r\n",
        "        temp[label]+=torch.reshape(theta_i[lLimit:hLimit],temp[label].size())   #add current component of current θi to the corresponding component of 'temp'\r\n",
        "        lLimit=hLimit\r\n",
        "    for label in temp:                                                          #loop over all labels of 'temp' and calculate the average of each element in its components\r\n",
        "      temp[label]/=len(theta_is)\r\n",
        "    self.policynet.load_state_dict(temp)\r\n",
        "\r\n",
        "  def evaluate(self,env,rollOuts=1):                                            #this function performs a fixed #roll-outs at the end of each training episode and evaluates the associated rewards\r\n",
        "    rewards=[]\r\n",
        "    for rollOut in range(rollOuts):\r\n",
        "      rewards.append(0.0)\r\n",
        "      s1=env.reset()\r\n",
        "      terminal1=False\r\n",
        "      numExperiences=0\r\n",
        "      while not terminal1:\r\n",
        "        s1=torch.tensor(s1).float().to(device)\r\n",
        "        a1=self.greedy(s1)\r\n",
        "        s1,r1,terminal1,info1=env.step(a1)\r\n",
        "        numExperiences+=1\r\n",
        "        rewards[-1]+=(self.gamma**(numExperiences-1))*r1\r\n",
        "    return np.mean(rewards)\r\n",
        "\r\n",
        "  def greedy(self,s):                                                           #this function returns the action that is greedy wrt to the Q-values of the state 's'\r\n",
        "    with torch.no_grad():\r\n",
        "      Q=self.policynet(s)\r\n",
        "    Q=Q.cpu().numpy()\r\n",
        "    return np.argmax(Q)\r\n",
        "\r\n",
        "\r\n",
        "\r\n",
        "\"\"\"DEFINE THE ENVIRONMENT, THE PARAMETERS OF THE AGENT AND THE HYPERPARAMETERS\r\n",
        "OF THE NEURAL NETWORK\"\"\"\r\n",
        "env=gym.make('CartPole-v0')                                                      #declare the environment variable\r\n",
        "hu1=16                                                                          #size of the first hidden layer of the NN\r\n",
        "hu2=10                                                                          #size of the second hidden layer of the NN\r\n",
        "hu3=5\r\n",
        "gamma=1                                                                       #the discount factor\r\n",
        "maxIterations=2000                                                              #maximum iterations for which is θ updated\r\n",
        "seed=6                                                                          #random seed used for random initialization of the network weights, the environment and various random function\r\n",
        "sigma=.1                                                                        #standard deviation for perturbing θ\r\n",
        "mean=.01                                                                        #mean for perturbing θ\r\n",
        "n=100                                                                           ##perturbations of θ\r\n",
        "k=20                                                                            #select the best k% θi from θ\r\n",
        "meanReward100=env.spec.reward_threshold                                         #mean reward earned over the last 100 episodes\r\n",
        "observations=env.observation_space.shape[0]                                     ##observations or I/P features\r\n",
        "actions=env.action_space.n                                                      #actions\r\n",
        "\r\n",
        "\r\n",
        "\r\n",
        "\r\n",
        "\"\"\"CEM\"\"\"\r\n",
        "env.seed(seed)                                                                  #set the seed for the environment\r\n",
        "agent=CEMagent(observations,actions,hu1,hu2,hu3)                                #create an object of type 'CEMagent'\r\n",
        "result=agent.train(env,seed,gamma,mean,sigma,n,k,maxIterations)                 #train the CEM agent"
      ],
      "execution_count": null,
      "outputs": [
        {
          "output_type": "stream",
          "text": [
            "/usr/local/lib/python3.7/dist-packages/ipykernel_launcher.py:76: UserWarning: To copy construct from a tensor, it is recommended to use sourceTensor.clone().detach() or sourceTensor.clone().detach().requires_grad_(True), rather than torch.tensor(sourceTensor).\n",
            "/usr/local/lib/python3.7/dist-packages/torch/nn/functional.py:1628: UserWarning: nn.functional.tanh is deprecated. Use torch.tanh instead.\n",
            "  warnings.warn(\"nn.functional.tanh is deprecated. Use torch.tanh instead.\")\n",
            "/usr/local/lib/python3.7/dist-packages/ipykernel_launcher.py:103: UserWarning: To copy construct from a tensor, it is recommended to use sourceTensor.clone().detach() or sourceTensor.clone().detach().requires_grad_(True), rather than torch.tensor(sourceTensor).\n"
          ],
          "name": "stderr"
        },
        {
          "output_type": "stream",
          "text": [
            "Iteration#: 1\tEvaluation reward: 47.00\tMean evaluation reward: 47.00\tSTD of evaluation reward: 0.00\n",
            "Iteration#: 2\tEvaluation reward: 132.00\tMean evaluation reward: 89.50\tSTD of evaluation reward: 42.50\n",
            "Iteration#: 3\tEvaluation reward: 55.00\tMean evaluation reward: 78.00\tSTD of evaluation reward: 38.32\n",
            "Iteration#: 4\tEvaluation reward: 70.00\tMean evaluation reward: 76.00\tSTD of evaluation reward: 33.37\n",
            "Iteration#: 5\tEvaluation reward: 126.00\tMean evaluation reward: 86.00\tSTD of evaluation reward: 35.93\n",
            "Iteration#: 6\tEvaluation reward: 137.00\tMean evaluation reward: 94.50\tSTD of evaluation reward: 37.91\n",
            "Iteration#: 7\tEvaluation reward: 172.00\tMean evaluation reward: 105.57\tSTD of evaluation reward: 44.35\n",
            "Iteration#: 8\tEvaluation reward: 110.00\tMean evaluation reward: 106.12\tSTD of evaluation reward: 41.51\n",
            "Iteration#: 9\tEvaluation reward: 200.00\tMean evaluation reward: 116.56\tSTD of evaluation reward: 49.01\n",
            "Iteration#: 10\tEvaluation reward: 200.00\tMean evaluation reward: 124.90\tSTD of evaluation reward: 52.81\n",
            "Iteration#: 11\tEvaluation reward: 200.00\tMean evaluation reward: 131.73\tSTD of evaluation reward: 54.78\n",
            "Iteration#: 12\tEvaluation reward: 200.00\tMean evaluation reward: 137.42\tSTD of evaluation reward: 55.74\n",
            "Iteration#: 13\tEvaluation reward: 200.00\tMean evaluation reward: 142.23\tSTD of evaluation reward: 56.09\n",
            "Iteration#: 14\tEvaluation reward: 200.00\tMean evaluation reward: 146.36\tSTD of evaluation reward: 56.06\n",
            "Iteration#: 15\tEvaluation reward: 200.00\tMean evaluation reward: 149.93\tSTD of evaluation reward: 55.79\n",
            "Iteration#: 16\tEvaluation reward: 200.00\tMean evaluation reward: 153.06\tSTD of evaluation reward: 55.36\n",
            "Iteration#: 17\tEvaluation reward: 200.00\tMean evaluation reward: 155.82\tSTD of evaluation reward: 54.83\n",
            "Iteration#: 18\tEvaluation reward: 200.00\tMean evaluation reward: 158.28\tSTD of evaluation reward: 54.24\n",
            "Iteration#: 19\tEvaluation reward: 200.00\tMean evaluation reward: 160.47\tSTD of evaluation reward: 53.61\n"
          ],
          "name": "stdout"
        }
      ]
    },
    {
      "cell_type": "markdown",
      "metadata": {
        "id": "ldxCqeI_wmDN"
      },
      "source": [
        "###Test the policy"
      ]
    },
    {
      "cell_type": "code",
      "metadata": {
        "id": "MZ_nVmzPwmr4"
      },
      "source": [
        "\"\"\"TESTING\"\"\"\r\n",
        "env=gym.make('CartPole-v0')\r\n",
        "env=Monitor(env,'./video',force=True,video_callable=lambda episode:True)\r\n",
        "#env.seed(10)\r\n",
        "s=env.reset()\r\n",
        "terminal=False\r\n",
        "episodeReward=0\r\n",
        "while not terminal:\r\n",
        "  s=torch.tensor(s).float().to(device)\r\n",
        "  a=agent.greedy(s)\r\n",
        "  s,r,terminal,info=env.step(a)\r\n",
        "  episodeReward+=r\r\n",
        "env.close()\r\n",
        "print('\\nEpisode reward:'+str(episodeReward))\r\n",
        "show_video('./video')"
      ],
      "execution_count": null,
      "outputs": []
    },
    {
      "cell_type": "markdown",
      "metadata": {
        "id": "Pl-6614Yx-A4"
      },
      "source": [
        "###Q1. Cross Entropy Method with Adaptive Exploration\r\n",
        "Implement below the cross-entropy method to solve the reacher-v0 environment and enable the agent to learn to navigate to a fixed goal position on a static highway map. Please, refer to the project descriprtion and lecture 13 for more details."
      ]
    },
    {
      "cell_type": "code",
      "metadata": {
        "colab": {
          "base_uri": "https://localhost:8080/",
          "height": 1000
        },
        "id": "q4yFcF8Ex81c",
        "outputId": "f8871117-1fd4-4cfe-fe78-e515fed1170a"
      },
      "source": [
        "from scipy.stats import norm\r\n",
        "\"\"\"SWITCH TO A GPU IF ONE IS AVAILABLE\"\"\"\r\n",
        "device=torch.device(\"cuda:0\" if torch.cuda.is_available() else \"cpu\")\r\n",
        "\r\n",
        "\r\n",
        "\r\n",
        "\"\"\"DEFINITION OF THE ARCHITECTURE AND THE ATTRIBUTES OF THE NEURAL NETWORK\"\"\"\r\n",
        "class network(nn.Module):\r\n",
        "  def __init__(self,observations,actions,hu1,hu2,hu3):\r\n",
        "    super(network, self).__init__()\r\n",
        "    self.l1=nn.Linear(observations,hu1)                                         #layer1 is a fully-connected layer with #I/P=observations and #hidden units=hu1\r\n",
        "    self.l2=nn.Linear(hu1,actions)                                              #layer2 is a fully-connected layer with #I/P=hu1 and #output units=actions\r\n",
        "    #initialize interconnection weights and bias weights using a probability\r\n",
        "    #distribution (code below is for a normal distribution with μ=0 and σ=1)\r\n",
        "    #nn.init.normal_(self.l1.weight.data,mean=0,std=1)\r\n",
        "    #nn.init.normal_(self.l1.bias.data,mean=0,std=1)\r\n",
        "    #nn.init.normal_(self.l2.weight.data,mean=0,std=1)\r\n",
        "    #nn.init.normal_(self.l2.bias.data,mean=0,std=1)\r\n",
        "    #nn.init.normal_(self.l3.weight.data,mean=0,std=1)\r\n",
        "    #nn.init.normal_(self.l3.bias.data,mean=0,std=1)\r\n",
        "\r\n",
        "  def forward(self,x):                                                          #forward propagation function\r\n",
        "    if not isinstance(x,torch.Tensor):                                          #check if the I/P is a tensor or not\r\n",
        "      x=torch.tensor(x,device=device,dtype=torch.float32)                       #convert the I/P to a tensor and move it to 'device'\r\n",
        "      x=x.unsqueeze(0)\r\n",
        "    x=F.relu(self.l1(x))\r\n",
        "    x=self.l2(x)\r\n",
        "    return x\r\n",
        "\r\n",
        "\r\n",
        "\r\n",
        "\"\"\"DEFINITION OF THE CHARACTERISTICS AND ATTRIBUTES OF THE CEM AGENT\"\"\"\r\n",
        "class CEMagent():\r\n",
        "  def __init__(self,observations,actions,hu1,hu2,hu3):\r\n",
        "    self.policynet=network(observations,actions,hu1,hu2,hu3).to(device)         #define a policy-network object of type 'network', initialize its weights θ randomly and move it to the GPU\r\n",
        "    self.tempnet=network(observations,actions,hu1,hu2,hu3).to(device)           #define a dummy netowrk object of type 'network', initialize its weights θ randomly and move it to the GPU\r\n",
        "\r\n",
        "  def train(self,env,seed,mean,sigma,gamma,n,k,maxIterations):\r\n",
        "    self.gamma=gamma\r\n",
        "    self.steps=0                                                                #stores the total #time-steps (or experiences) collected during the training process\r\n",
        "    self.dimension=sum(p.numel() for p in self.policynet.parameters())          #total #interconnection weights of the NN\r\n",
        "    self.mean=mean*torch.ones(self.dimension)                                   #initial mean is a vector of dimension 'self.dimension with all elements being equal to 'mean'\r\n",
        "    self.sigma=sigma*torch.ones(self.dimension)                                 #initial std is a vector of dimension 'self.dimension with all elements being equal to 'sigma'\r\n",
        "    torch.manual_seed(seed) \r\n",
        "    np.random.seed(seed)\r\n",
        "    random.seed(seed)\r\n",
        "    env.seed(seed)\r\n",
        "    self.evalScoreIteration=[]                                                  #stores the evaluation score of each roll-out\r\n",
        "    self.results=[]                                                             #stores the results tuple\r\n",
        "    iterations=0\r\n",
        "    while iterations<maxIterations:\r\n",
        "      iterations+=1\r\n",
        "      theta_is=[]                                                               #stores all perturbations θi\r\n",
        "      for i in range(n):                                                        #run this loop 'n' times to collect 'n' perturbations of θ\r\n",
        "        theta_is.append(self.perturbations())\r\n",
        "      G_is=self.rollOut(env,theta_is)                                           #call this function to perform a roll-out corresponding to each θ, and calculate the corresponding reward Gi=R(τi)\r\n",
        "      indices=np.argsort(G_is)[-k:].tolist()                                    #extract indices of the highest k% of Gi where Gi=R(τi)\r\n",
        "      theta_is=[theta_is[index] for index in indices]                           #use the extracted indices to identify the corresponding θi\r\n",
        "      self.weightUpdate(theta_is,k)                                             #update the weights of the policy network\r\n",
        "      self.fit(theta_is)                                                        #call this function to fit a new distribution to the selected best θi\r\n",
        "      evalScore=self.evaluate(env)                                              #perform a roll-out after each round of weight update            \r\n",
        "      self.evalScoreIteration.append(evalScore)      \r\n",
        "      print('Iteration#: {:d}\\tStep#: {:d}\\tEvaluation reward: {:.2f}\\tMean evaluation reward: {:.2f}\\tSTD of evaluation reward: {:.2f}'.format(iterations,self.steps,evalScore,np.mean(self.evalScoreIteration),np.std(self.evalScoreIteration)))\r\n",
        "      self.results.append((iterations,self.steps,evalScore,np.mean(self.evalScoreIteration),np.std(self.evalScoreIteration)))\r\n",
        "      if np.mean(self.evalScoreIteration)>=1.2 and iterations!=1:               #break the algorithm if the mean reward over all roll-outs exceeds 1.2\r\n",
        "        break\r\n",
        "    return self.results,self.policynet\r\n",
        "\r\n",
        "  def perturbations(self):                                                      #this function generates perturbations θi\r\n",
        "    perturbation=self.mean+(self.sigma*torch.randn(self.dimension))\r\n",
        "    return perturbation\r\n",
        "\r\n",
        "  def rollOut(self,env,theta_is):                                               #this function executes one roll-out for each θi and collects the corresponding reward R(τi)\r\n",
        "    R=[]                                                                        #list stores R(τi) of each τi\r\n",
        "    temp=self.tempnet.state_dict()\r\n",
        "    for i in theta_is:\r\n",
        "      theta_i=torch.tensor(i).to(device)                                        #as θi is not a tensor, make it one and move it to the GPU\r\n",
        "      lLimit,hLimit=0,0                                                         #these two variables form the upper and lower limit of weight slices\r\n",
        "      for label,parameter in zip(temp,self.tempnet.parameters()):               #iterate over each label of 'temp' and each parameter of the policy network\r\n",
        "        hLimit=lLimit+sum(p.numel() for p in temp[label])\r\n",
        "        temp[label]=torch.reshape(theta_i[lLimit:hLimit],temp[label].size())    #generate a perturbation of the current parameter using the expression θ=θ+σε\r\n",
        "        lLimit=hLimit\r\n",
        "      self.tempnet.load_state_dict(temp)                                        #use θi as the weight of 'tempnet' and use the latter to execute a roll-out\r\n",
        "      terminal=False\r\n",
        "      numExperiences=0\r\n",
        "      s=env.reset()\r\n",
        "      R.append(0.0)\r\n",
        "      while not terminal:                                                       #run the episode until it terminates\r\n",
        "        self.steps+=1                                                           #each step in the episode is considered as one time-step (or experience)\r\n",
        "        s=torch.tensor(s).type(torch.FloatTensor).to(device)\r\n",
        "        with torch.no_grad():\r\n",
        "          Q=self.tempnet(s).cpu().detach().data.numpy().squeeze()\r\n",
        "        action=np.argmax(Q)\r\n",
        "        sP,r,terminal,info=env.step(action)\r\n",
        "        s=sP\r\n",
        "        numExperiences+=1\r\n",
        "        R[-1]+=(self.gamma**(numExperiences-1))*r                               #sum of discounted rewards of the current trajectory (or episode)\r\n",
        "    return R\r\n",
        "\r\n",
        "  def weightUpdate(self,theta_is,k):                                            #this function updates the weights of the policy network\r\n",
        "    temp=self.policynet.state_dict()                                            #create a copy of the weights of the policy network\r\n",
        "    for label,parameter in zip(temp,self.policynet.parameters()):               #iterate over each label of 'temp' and each parameter of the policy network\r\n",
        "      temp[label]=torch.zeros_like(parameter)                                   #initialize all weights to zeros\r\n",
        "    for i in theta_is:                                                          #loop over each selected θi\r\n",
        "      theta_i=torch.tensor(i).to(device)                                        #convert selected θi to tensor and move it to the GPU\r\n",
        "      lLimit,hLimit=0,0                                                         #these two variables form the upper and lower limit of weight slices\r\n",
        "      for label in temp:                                                        #loop over each label of 'temp'\r\n",
        "        hLimit=lLimit+sum(parameter.numel() for parameter in temp[label])\r\n",
        "        temp[label]+=torch.reshape(theta_i[lLimit:hLimit],temp[label].size())   #add current component of current θi to the corresponding component of 'temp'\r\n",
        "        lLimit=hLimit\r\n",
        "    for label in temp:                                                          #loop over all labels of 'temp' and calculate the average of each element in its components\r\n",
        "      temp[label]/=k\r\n",
        "    self.policynet.load_state_dict(temp)                                        #replace the weights of the policy network θ with the new weight θnew\r\n",
        "\r\n",
        "  def fit(self,theta_is):                                                       #this function fits a distribution to the selected best θi\r\n",
        "    temp=torch.stack(theta_is)\r\n",
        "    self.mean=torch.mean(temp,0)\r\n",
        "    self.sigma=torch.std(temp,0)\r\n",
        "\r\n",
        "  def evaluate(self,env,rollOuts=1):                                            #this function performs a fixed #roll-outs at the end of each training episode and evaluates the associated rewards\r\n",
        "    rewards=[]\r\n",
        "    for rollOut in range(rollOuts):\r\n",
        "      rewards.append(0.0)\r\n",
        "      s1=env.reset()\r\n",
        "      terminal1=False\r\n",
        "      numExperiences=0\r\n",
        "      while not terminal1:                                                      #run the episode until it terminates\r\n",
        "        s1=torch.tensor(s1).float().to(device)\r\n",
        "        a1=self.greedy(s1)\r\n",
        "        s1,r1,terminal1,info1=env.step(a1)\r\n",
        "        numExperiences+=1\r\n",
        "        rewards[-1]+=(self.gamma**(numExperiences-1))*r1\r\n",
        "    return np.mean(rewards)\r\n",
        "\r\n",
        "  def greedy(self,s):                                                           #this function returns the action that is greedy wrt to the Q-values of the state 's'\r\n",
        "    with torch.no_grad():\r\n",
        "      Q=self.policynet(s)\r\n",
        "    Q=Q.cpu().numpy()\r\n",
        "    return np.argmax(Q)\r\n",
        "\r\n",
        "\r\n",
        "\"\"\"DEFINE THE ENVIRONMENT, THE PARAMETERS OF THE AGENT AND THE HYPERPARAMETERS\r\n",
        "OF THE NEURAL NETWORK\"\"\"\r\n",
        "env=gym.make('reacher-v0')                                                      #declare the environment variable\r\n",
        "hu1=17                                                                          #size of the first hidden layer of the NN\r\n",
        "hu2=15                                                                          #size of the second hidden layer (if any) of the NN\r\n",
        "hu3=5                                                                           #size of the third hidden layer (if any) of the NN\r\n",
        "gamma=.999                                                                      #the discount factor\r\n",
        "maxIterations=2000                                                              #maximum iterations\r\n",
        "seed=8                                                                          #random seed used for random initialization of the network weights, the environment and various random function\r\n",
        "sigma=.5                                                                        #initial standard deviation for perturbing θ\r\n",
        "mean=.01                                                                        #initial mean for perturbing θ\r\n",
        "n=300                                                                           ##perturbations of θ\r\n",
        "k=5                                                                             #select the best k% θi from θ\r\n",
        "meanReward100=env.spec.reward_threshold                                         #mean reward earned over the last 100 episodes\r\n",
        "observations=env.observation_space.shape[0]                                     ##observations or I/P features\r\n",
        "actions=env.action_space.n                                                      #actions\r\n",
        "\r\n",
        "\r\n",
        "\r\n",
        "\"\"\"CEM\"\"\"\r\n",
        "env.seed(seed)                                                                  #set the seed for the environment\r\n",
        "agent=CEMagent(observations,actions,hu1,hu2,hu3)                                #create an object of type 'CEMagent'\r\n",
        "results,model=agent.train(env,seed,mean,sigma,gamma,n,k,maxIterations)          #train the CEM agent\r\n",
        "save_checkpoint(model,'model1',1)                                               #save the model in Google Drive\r\n",
        "\r\n",
        "\r\n",
        "\r\n",
        "\"\"\"PLOT THE RESULTS\"\"\"\r\n",
        "trainResults=np.array(results)\r\n",
        "numIterations=trainResults[:,0]                                                 #total #iterations\r\n",
        "numSteps=trainResults[:,1]                                                      #total #time-steps\r\n",
        "meanEvalScore=trainResults[:,3]                                                 #mean evaluation score\r\n",
        "\r\n",
        "figure1=plt.figure()                                                            #plot the #iterations\r\n",
        "axis1=figure1.add_subplot(111)\r\n",
        "plt.plot(numIterations,meanEvalScore,linewidth=2)\r\n",
        "plt.ylabel('Mean evaluation score')\r\n",
        "plt.xlabel('#iterations')\r\n",
        "axis1.set_title('Mean evaluation score v/s #iterations')\r\n",
        "\r\n",
        "figure2=plt.figure()                                                            #plot the #time-steps\r\n",
        "axis2=figure2.add_subplot(111)\r\n",
        "plt.plot(numSteps,meanEvalScore,linewidth=2)\r\n",
        "plt.ylabel('Mean evaluation score')\r\n",
        "plt.xlabel('#time-steps')\r\n",
        "axis2.set_title('Mean evaluation score v/s #time-steps')\r\n",
        "\r\n",
        "figure3=plt.figure()                                                            #plot the #time-steps versus #episodes\r\n",
        "axis3=figure3.add_subplot(111)\r\n",
        "plt.plot(numIterations,numSteps,linewidth=2)\r\n",
        "plt.xlabel('#iterations')\r\n",
        "plt.ylabel('#time-steps')\r\n",
        "axis3.set_title('#time-steps v/s #iterations')"
      ],
      "execution_count": 22,
      "outputs": [
        {
          "output_type": "stream",
          "text": [
            "/usr/local/lib/python3.7/dist-packages/ipykernel_launcher.py:77: UserWarning: To copy construct from a tensor, it is recommended to use sourceTensor.clone().detach() or sourceTensor.clone().detach().requires_grad_(True), rather than torch.tensor(sourceTensor).\n",
            "/usr/local/lib/python3.7/dist-packages/ipykernel_launcher.py:105: UserWarning: To copy construct from a tensor, it is recommended to use sourceTensor.clone().detach() or sourceTensor.clone().detach().requires_grad_(True), rather than torch.tensor(sourceTensor).\n"
          ],
          "name": "stderr"
        },
        {
          "output_type": "stream",
          "text": [
            "Iteration#: 1\tStep#: 4897\tEvaluation reward: -0.30\tMean evaluation reward: -0.30\tSTD of evaluation reward: 0.00\n",
            "Iteration#: 2\tStep#: 10873\tEvaluation reward: -0.30\tMean evaluation reward: -0.30\tSTD of evaluation reward: 0.00\n",
            "Iteration#: 3\tStep#: 14996\tEvaluation reward: -0.30\tMean evaluation reward: -0.30\tSTD of evaluation reward: 0.00\n",
            "Iteration#: 4\tStep#: 18801\tEvaluation reward: 0.04\tMean evaluation reward: -0.22\tSTD of evaluation reward: 0.14\n",
            "Iteration#: 5\tStep#: 25828\tEvaluation reward: 0.04\tMean evaluation reward: -0.16\tSTD of evaluation reward: 0.16\n",
            "Iteration#: 6\tStep#: 33003\tEvaluation reward: -0.31\tMean evaluation reward: -0.19\tSTD of evaluation reward: 0.16\n",
            "Iteration#: 7\tStep#: 41429\tEvaluation reward: 0.05\tMean evaluation reward: -0.15\tSTD of evaluation reward: 0.17\n",
            "Iteration#: 8\tStep#: 50841\tEvaluation reward: -0.31\tMean evaluation reward: -0.17\tSTD of evaluation reward: 0.17\n",
            "Iteration#: 9\tStep#: 61510\tEvaluation reward: 1.41\tMean evaluation reward: 0.00\tSTD of evaluation reward: 0.52\n",
            "Iteration#: 10\tStep#: 73804\tEvaluation reward: 1.42\tMean evaluation reward: 0.14\tSTD of evaluation reward: 0.65\n",
            "Iteration#: 11\tStep#: 84832\tEvaluation reward: 1.38\tMean evaluation reward: 0.26\tSTD of evaluation reward: 0.71\n",
            "Iteration#: 12\tStep#: 95973\tEvaluation reward: 1.42\tMean evaluation reward: 0.35\tSTD of evaluation reward: 0.76\n",
            "Iteration#: 13\tStep#: 106011\tEvaluation reward: 1.38\tMean evaluation reward: 0.43\tSTD of evaluation reward: 0.78\n",
            "Iteration#: 14\tStep#: 116119\tEvaluation reward: 1.42\tMean evaluation reward: 0.50\tSTD of evaluation reward: 0.79\n",
            "Iteration#: 15\tStep#: 126751\tEvaluation reward: 1.42\tMean evaluation reward: 0.56\tSTD of evaluation reward: 0.80\n",
            "Iteration#: 16\tStep#: 138288\tEvaluation reward: 1.42\tMean evaluation reward: 0.62\tSTD of evaluation reward: 0.80\n",
            "Iteration#: 17\tStep#: 150255\tEvaluation reward: 1.42\tMean evaluation reward: 0.66\tSTD of evaluation reward: 0.80\n",
            "Iteration#: 18\tStep#: 161631\tEvaluation reward: 1.42\tMean evaluation reward: 0.71\tSTD of evaluation reward: 0.79\n",
            "Iteration#: 19\tStep#: 173991\tEvaluation reward: 1.42\tMean evaluation reward: 0.74\tSTD of evaluation reward: 0.79\n",
            "Iteration#: 20\tStep#: 185631\tEvaluation reward: 1.42\tMean evaluation reward: 0.78\tSTD of evaluation reward: 0.78\n",
            "Iteration#: 21\tStep#: 193948\tEvaluation reward: 1.42\tMean evaluation reward: 0.81\tSTD of evaluation reward: 0.78\n",
            "Iteration#: 22\tStep#: 200890\tEvaluation reward: 1.42\tMean evaluation reward: 0.84\tSTD of evaluation reward: 0.77\n",
            "Iteration#: 23\tStep#: 209796\tEvaluation reward: 1.42\tMean evaluation reward: 0.86\tSTD of evaluation reward: 0.76\n",
            "Iteration#: 24\tStep#: 215820\tEvaluation reward: 1.42\tMean evaluation reward: 0.88\tSTD of evaluation reward: 0.75\n",
            "Iteration#: 25\tStep#: 222884\tEvaluation reward: 1.42\tMean evaluation reward: 0.91\tSTD of evaluation reward: 0.75\n",
            "Iteration#: 26\tStep#: 227376\tEvaluation reward: 1.42\tMean evaluation reward: 0.93\tSTD of evaluation reward: 0.74\n",
            "Iteration#: 27\tStep#: 231334\tEvaluation reward: 1.42\tMean evaluation reward: 0.94\tSTD of evaluation reward: 0.73\n",
            "Iteration#: 28\tStep#: 235898\tEvaluation reward: 1.42\tMean evaluation reward: 0.96\tSTD of evaluation reward: 0.72\n",
            "Iteration#: 29\tStep#: 240608\tEvaluation reward: 1.42\tMean evaluation reward: 0.98\tSTD of evaluation reward: 0.71\n",
            "Iteration#: 30\tStep#: 245236\tEvaluation reward: 1.42\tMean evaluation reward: 0.99\tSTD of evaluation reward: 0.71\n",
            "Iteration#: 31\tStep#: 249508\tEvaluation reward: 1.42\tMean evaluation reward: 1.00\tSTD of evaluation reward: 0.70\n",
            "Iteration#: 32\tStep#: 254050\tEvaluation reward: 1.42\tMean evaluation reward: 1.02\tSTD of evaluation reward: 0.69\n",
            "Iteration#: 33\tStep#: 257982\tEvaluation reward: 1.42\tMean evaluation reward: 1.03\tSTD of evaluation reward: 0.69\n",
            "Iteration#: 34\tStep#: 261936\tEvaluation reward: 1.42\tMean evaluation reward: 1.04\tSTD of evaluation reward: 0.68\n",
            "Iteration#: 35\tStep#: 265832\tEvaluation reward: 1.42\tMean evaluation reward: 1.05\tSTD of evaluation reward: 0.67\n",
            "Iteration#: 36\tStep#: 269718\tEvaluation reward: 1.42\tMean evaluation reward: 1.06\tSTD of evaluation reward: 0.66\n",
            "Iteration#: 37\tStep#: 273602\tEvaluation reward: 1.42\tMean evaluation reward: 1.07\tSTD of evaluation reward: 0.66\n",
            "Iteration#: 38\tStep#: 277478\tEvaluation reward: 1.42\tMean evaluation reward: 1.08\tSTD of evaluation reward: 0.65\n",
            "Iteration#: 39\tStep#: 281307\tEvaluation reward: 1.42\tMean evaluation reward: 1.09\tSTD of evaluation reward: 0.65\n",
            "Iteration#: 40\tStep#: 285134\tEvaluation reward: 1.42\tMean evaluation reward: 1.10\tSTD of evaluation reward: 0.64\n",
            "Iteration#: 41\tStep#: 288970\tEvaluation reward: 1.42\tMean evaluation reward: 1.11\tSTD of evaluation reward: 0.63\n",
            "Iteration#: 42\tStep#: 292870\tEvaluation reward: 1.42\tMean evaluation reward: 1.11\tSTD of evaluation reward: 0.63\n",
            "Iteration#: 43\tStep#: 296770\tEvaluation reward: 1.42\tMean evaluation reward: 1.12\tSTD of evaluation reward: 0.62\n",
            "Iteration#: 44\tStep#: 300672\tEvaluation reward: 1.42\tMean evaluation reward: 1.13\tSTD of evaluation reward: 0.62\n",
            "Iteration#: 45\tStep#: 304564\tEvaluation reward: 1.42\tMean evaluation reward: 1.13\tSTD of evaluation reward: 0.61\n",
            "Iteration#: 46\tStep#: 308464\tEvaluation reward: 1.42\tMean evaluation reward: 1.14\tSTD of evaluation reward: 0.61\n",
            "Iteration#: 47\tStep#: 312368\tEvaluation reward: 1.42\tMean evaluation reward: 1.15\tSTD of evaluation reward: 0.60\n",
            "Iteration#: 48\tStep#: 316268\tEvaluation reward: 1.42\tMean evaluation reward: 1.15\tSTD of evaluation reward: 0.60\n",
            "Iteration#: 49\tStep#: 320168\tEvaluation reward: 1.42\tMean evaluation reward: 1.16\tSTD of evaluation reward: 0.59\n",
            "Iteration#: 50\tStep#: 324068\tEvaluation reward: 1.42\tMean evaluation reward: 1.16\tSTD of evaluation reward: 0.59\n",
            "Iteration#: 51\tStep#: 327968\tEvaluation reward: 1.42\tMean evaluation reward: 1.17\tSTD of evaluation reward: 0.58\n",
            "Iteration#: 52\tStep#: 331868\tEvaluation reward: 1.42\tMean evaluation reward: 1.17\tSTD of evaluation reward: 0.58\n",
            "Iteration#: 53\tStep#: 335768\tEvaluation reward: 1.42\tMean evaluation reward: 1.18\tSTD of evaluation reward: 0.57\n",
            "Iteration#: 54\tStep#: 339668\tEvaluation reward: 1.42\tMean evaluation reward: 1.18\tSTD of evaluation reward: 0.57\n",
            "Iteration#: 55\tStep#: 343574\tEvaluation reward: 1.42\tMean evaluation reward: 1.19\tSTD of evaluation reward: 0.56\n",
            "Iteration#: 56\tStep#: 347476\tEvaluation reward: 1.42\tMean evaluation reward: 1.19\tSTD of evaluation reward: 0.56\n",
            "Iteration#: 57\tStep#: 351386\tEvaluation reward: 1.42\tMean evaluation reward: 1.19\tSTD of evaluation reward: 0.56\n",
            "Iteration#: 58\tStep#: 355296\tEvaluation reward: 1.42\tMean evaluation reward: 1.20\tSTD of evaluation reward: 0.55\n",
            "Iteration#: 59\tStep#: 359210\tEvaluation reward: 1.42\tMean evaluation reward: 1.20\tSTD of evaluation reward: 0.55\n",
            "Drive already mounted at /content/gdrive; to attempt to forcibly remount, call drive.mount(\"/content/gdrive\", force_remount=True).\n"
          ],
          "name": "stdout"
        },
        {
          "output_type": "execute_result",
          "data": {
            "text/plain": [
              "Text(0.5, 1.0, '#time-steps v/s #iterations')"
            ]
          },
          "metadata": {
            "tags": []
          },
          "execution_count": 22
        },
        {
          "output_type": "display_data",
          "data": {
            "image/png": "[encoded data removed]",
            "text/plain": [
              "<Figure size 432x288 with 1 Axes>"
            ]
          },
          "metadata": {
            "tags": [],
            "needs_background": "light"
          }
        },
        {
          "output_type": "display_data",
          "data": {
            "image/png": "[encoded data removed]",
            "text/plain": [
              "<Figure size 432x288 with 1 Axes>"
            ]
          },
          "metadata": {
            "tags": [],
            "needs_background": "light"
          }
        },
        {
          "output_type": "display_data",
          "data": {
            "image/png": "[encoded data removed]",
            "text/plain": [
              "<Figure size 432x288 with 1 Axes>"
            ]
          },
          "metadata": {
            "tags": [],
            "needs_background": "light"
          }
        }
      ]
    },
    {
      "cell_type": "markdown",
      "metadata": {
        "id": "xsQjRylTnYPf"
      },
      "source": [
        "###Test the policy"
      ]
    },
    {
      "cell_type": "code",
      "metadata": {
        "colab": {
          "base_uri": "https://localhost:8080/",
          "height": 530
        },
        "id": "GY6KMtbR-rRq",
        "outputId": "2f3ee5d7-962d-433a-b94e-7c0ec3fa0f88"
      },
      "source": [
        "\"\"\"TESTING\"\"\"\r\n",
        "env=gym.make('reacher-v0')\r\n",
        "env=Monitor(env,'./video',force=True,video_callable=lambda episode:True)\r\n",
        "#env.seed(10)\r\n",
        "s=env.reset()\r\n",
        "terminal=False\r\n",
        "episodeReward=0\r\n",
        "while not terminal:\r\n",
        "  s=torch.tensor(s).float().to(device)\r\n",
        "  a=agent.greedy(s)\r\n",
        "  s,r,terminal,info=env.step(a)\r\n",
        "  episodeReward+=r\r\n",
        "env.close()\r\n",
        "print('\\nEpisode reward:'+str(episodeReward))\r\n",
        "show_video('./video')"
      ],
      "execution_count": 73,
      "outputs": [
        {
          "output_type": "stream",
          "text": [
            "Origin:  [0.0, 0.0]\n",
            "world_width:  50.0\n",
            "world_height:  50.0\n",
            "Screen:  <Surface(600x600x32 SW)>\n",
            "\n",
            "Episode reward:1.4336206947403212\n"
          ],
          "name": "stdout"
        },
        {
          "output_type": "display_data",
          "data": {
            "text/html": [
              "<video alt=\"video/openaigym.video.13.60.video000000.mp4\" autoplay \n",
              "                      controls style=\"height: 400px;\">\n",
              "                      <source src=\"data:video/mp4;base64,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\" type=\"video/mp4\" />\n",
              "                 </video>"
            ],
            "text/plain": [
              "<IPython.core.display.HTML object>"
            ]
          },
          "metadata": {
            "tags": []
          }
        }
      ]
    },
    {
      "cell_type": "markdown",
      "metadata": {
        "id": "v3hmSsvaneTC"
      },
      "source": [
        "###Q2. Evolution Strategy Salimas et al. 2017\r\n",
        "Implement below the non-distributed version of the evolution strategies method from  [[Salimans et al., 2017]](https://arxiv.org/pdf/1703.03864.pdf) to solve the LunarLanderContinuous-v2 environment and enable the agent to navigate to its landing pad. Please, refer to the project descriprtion and lecture 13 for more details."
      ]
    },
    {
      "cell_type": "markdown",
      "metadata": {
        "id": "q3vLzI-gEMis"
      },
      "source": [
        "First, let's test the new environment out!"
      ]
    },
    {
      "cell_type": "code",
      "metadata": {
        "id": "7Bzgv9jsEPsp"
      },
      "source": [
        "display=Display(visible=0,size=(900,400))\r\n",
        "display.start()\r\n",
        "\r\n",
        "env=gym.make(\"LunarLanderContinuous-v2\")\r\n",
        "env=Monitor(env,'./video',force=True,video_callable=lambda episode:True)\r\n",
        "env.reset()\r\n",
        "done=False\r\n",
        "while not done:\r\n",
        "  action=env.action_space.sample()\r\n",
        "  obs,reward,done,info=env.step(action)\r\n",
        "env.close()\r\n",
        "show_video('./video')"
      ],
      "execution_count": null,
      "outputs": []
    },
    {
      "cell_type": "markdown",
      "metadata": {
        "id": "cbrwnXj4EVRH"
      },
      "source": [
        "The observation that the agent receives is its position, velocity, angular speed, and two 2 Boolean flags indicating whether the left and right leg of the agent, respectively, is in contact with the ground.\r\n",
        "\r\n",
        "Two continuous actions are used to control the agent. The first one controls the main engine and the second one controls the left and right engines. *The expected range of each of the two actions is [-1, 1]. Please make sure that your policy network outputs values in that range*"
      ]
    },
    {
      "cell_type": "code",
      "metadata": {
        "id": "849urNIfEWM5"
      },
      "source": [
        "print('observation space:',env.observation_space)\r\n",
        "print('action space:',env.action_space)\r\n",
        "print('solved_score',env.spec.reward_threshold)"
      ],
      "execution_count": null,
      "outputs": []
    },
    {
      "cell_type": "markdown",
      "metadata": {
        "id": "BE27boN9EbVr"
      },
      "source": [
        "### Implement a policy network that the agent can use to select actions. \r\n",
        "Instead of training the parameters of the network, you will directly set them based on your ES optimization."
      ]
    },
    {
      "cell_type": "code",
      "metadata": {
        "id": "rPRzTMRmoQBO"
      },
      "source": [
        "\"\"\"SWITCH TO A GPU IF ONE IS AVAILABLE\"\"\"\r\n",
        "device=torch.device(\"cuda:0\" if torch.cuda.is_available() else \"cpu\")\r\n",
        "\r\n",
        "\r\n",
        "\r\n",
        "\"\"\"DEFINITION OF THE ARCHITECTURE AND THE ATTRIBUTES OF THE NEURAL NETWORK\"\"\"\r\n",
        "class network2(nn.Module):\r\n",
        "  def __init__(self,observations,actions,hu1,hu2,hu3=2):\r\n",
        "    super(network2, self).__init__()\r\n",
        "    self.l1=nn.Linear(observations,hu1)                                         #layer1 is a fully-connected layer with #I/P=observations and #hidden units=hu1\r\n",
        "    self.l2=nn.Linear(hu1,hu2)                                                  #layer2 is a fully-connected layer with #I/P=hu1 and #hidden units=hu2\r\n",
        "    self.l3=nn.Linear(hu2,actions)                                              #layer3 is a fully-connected layer with #I/P=hu2 and #units=actions\r\n",
        "\r\n",
        "  def forward(self,x):                                                          #forward propagation function\r\n",
        "    if not isinstance(x,torch.Tensor):                                          #check if the I/P is a tensor or not\r\n",
        "      x=torch.tensor(x,device=device,dtype=torch.float32)                       #convert the I/P to a tensor and move it to 'device'\r\n",
        "      x=x.unsqueeze(0)\r\n",
        "    x=torch.tanh(self.l1(x))\r\n",
        "    x=torch.tanh(self.l2(x))\r\n",
        "    x=torch.tanh(self.l3(x))\r\n",
        "    return x\r\n",
        "\r\n",
        "\r\n",
        "\r\n",
        "\"\"\"DEFINITION OF THE CHARACTERISTICS AND ATTRIBUTES OF THE CEM AGENT\"\"\"\r\n",
        "class ESagent():\r\n",
        "  def __init__(self,observations,actions,hu1,hu2):\r\n",
        "    self.policynet=network2(observations,actions,hu1,hu2).to(device)            #define a policy-network object of type 'network2', initialize its weights θ randomly and move it to the GPU\r\n",
        "    self.tempnet=network2(observations,actions,hu1,hu2).to(device)              #define a dummy netowrk object of type 'network2', initialize its weights θ randomly and move it to the GPU\r\n",
        "\r\n",
        "  def train(self,env,seed,alpha,momentum,sigma,gamma,n,maxIterations):\r\n",
        "    self.alpha=alpha\r\n",
        "    self.momentum=momentum\r\n",
        "    self.gamma=gamma\r\n",
        "    self.sigma=sigma\r\n",
        "    self.steps=0\r\n",
        "    self.dimension=sum(p.numel() for p in self.policynet.parameters())\r\n",
        "    torch.manual_seed(seed) \r\n",
        "    np.random.seed(seed)\r\n",
        "    random.seed(seed)\r\n",
        "    env.seed(seed)\r\n",
        "    self.evalScoreIteration=[]\r\n",
        "    self.results=[]\r\n",
        "    iterations=0\r\n",
        "    while iterations<maxIterations:\r\n",
        "      iterations+=1\r\n",
        "      theta_is=[]\r\n",
        "      noise_is=[]\r\n",
        "      for i in range(n):                                                        #run this loop 'n' times to collect 'n' perturbations of θ\r\n",
        "        theta_i,noise_i=self.perturbations()\r\n",
        "        theta_is.append(theta_i)\r\n",
        "        noise_is.append(noise_i)\r\n",
        "      G_is=self.rollOut(env,theta_is)                                           #call this function to perform a roll-out corresponding to each θ, and calculate the corresponding reward R(τi)\r\n",
        "      self.weightUpdate(G_is,noise_is,n)                                        #update the weights of the policy network using the ide\r\n",
        "      evalScore=self.evaluate(env)                                              #perform a roll-out after each round of weight update            \r\n",
        "      self.evalScoreIteration.append(evalScore)      \r\n",
        "      print('Iteration#: {:d}\\tStep#: {:d}\\tEvaluation reward: {:.2f}\\t\\u03BC evaluation reward: {:.2f}\\t\\u03C3 of evaluation reward: {:.2f}\\t\\u03BC\\u2085\\u2080 evaluation reward: {:.2f}'.format(iterations,self.steps,evalScore,np.mean(self.evalScoreIteration),np.std(self.evalScoreIteration),np.mean(self.evalScoreIteration[-50:])))\r\n",
        "      self.results.append((iterations,self.steps,evalScore,np.mean(self.evalScoreIteration),np.std(self.evalScoreIteration),np.mean(self.evalScoreIteration[-50:])))\r\n",
        "      if np.mean(self.evalScoreIteration[-50:])>=100.0 and iterations!=1:\r\n",
        "        break\r\n",
        "    return self.results,self.policynet\r\n",
        "\r\n",
        "  def perturbations(self):\r\n",
        "    temp=torch.cat([parameter.view(-1) for parameter in self.policynet.parameters()])\r\n",
        "    noise=self.sigma*torch.randn(self.dimension).to(device)\r\n",
        "    perturbation=temp+noise\r\n",
        "    return perturbation,noise\r\n",
        "\r\n",
        "  def rollOut(self,env,theta_is):\r\n",
        "    R=[]                                                                        #list stores R(τi) of each τi\r\n",
        "    temp=self.tempnet.state_dict()\r\n",
        "    for i in theta_is:\r\n",
        "      theta_i=torch.tensor(i).to(device)\r\n",
        "      lLimit,hLimit=0,0\r\n",
        "      for label,parameter in zip(temp,self.tempnet.parameters()):               #iterate over each label of 'temp' and each parameter of the policy network\r\n",
        "        hLimit=lLimit+sum(p.numel() for p in temp[label])\r\n",
        "        temp[label]=torch.reshape(theta_i[lLimit:hLimit],temp[label].size())    #generate a perturbation of the current parameter using the expression θ=θ+σε\r\n",
        "        lLimit=hLimit\r\n",
        "      self.tempnet.load_state_dict(temp)\r\n",
        "      terminal=False\r\n",
        "      numExperiences=0\r\n",
        "      s=env.reset()\r\n",
        "      R.append(0.0)\r\n",
        "      while not terminal:\r\n",
        "        self.steps+=1\r\n",
        "        s=torch.tensor(s).type(torch.FloatTensor).to(device)\r\n",
        "        with torch.no_grad():\r\n",
        "          Q=self.tempnet(s).cpu().detach().data.numpy().squeeze()\r\n",
        "        action=Q\r\n",
        "        sP,r,terminal,info=env.step(action)\r\n",
        "        s=sP\r\n",
        "        numExperiences+=1\r\n",
        "        R[-1]+=(self.gamma**(numExperiences-1))*r                               #sum of discounted rewards of the current trajectory\r\n",
        "    return R\r\n",
        "\r\n",
        "  def weightUpdate(self,G_is,noise_is,n):                                       #this function updates the weights of the policy network\r\n",
        "    temp=self.policynet.state_dict()                                            #create a copy of the weights of the policy network\r\n",
        "    update=torch.zeros(self.dimension).to(device)\r\n",
        "    G_is=np.array(G_is)\r\n",
        "    G_is=((G_is-np.mean(G_is))/np.std(G_is)).tolist()\r\n",
        "    for i in range(n):\r\n",
        "      update+=G_is[i]*noise_is[i]\r\n",
        "    update*=((self.momentum*self.alpha)/(n*self.sigma))\r\n",
        "    lLimit,hLimit=0,0\r\n",
        "    for label in temp:\r\n",
        "      hLimit=lLimit+sum(p.numel() for p in temp[label])\r\n",
        "      temp[label]+=torch.reshape(update[lLimit:hLimit],temp[label].size())\r\n",
        "      lLimit=hLimit\r\n",
        "    self.policynet.load_state_dict(temp)\r\n",
        "\r\n",
        "  def evaluate(self,env,rollOuts=1):                                            #this function performs a fixed #roll-outs at the end of each training episode and evaluates the associated rewards\r\n",
        "    rewards=[]\r\n",
        "    for rollOut in range(rollOuts):\r\n",
        "      rewards.append(0.0)\r\n",
        "      s1=env.reset()\r\n",
        "      terminal1=False\r\n",
        "      numExperiences=0\r\n",
        "      while not terminal1:\r\n",
        "        s1=torch.tensor(s1).float().to(device)\r\n",
        "        a1=self.greedy(s1)\r\n",
        "        s1,r1,terminal1,info1=env.step(a1)\r\n",
        "        numExperiences+=1\r\n",
        "        rewards[-1]+=(self.gamma**(numExperiences-1))*r1\r\n",
        "    return np.mean(rewards)\r\n",
        "\r\n",
        "  def greedy(self,s):                                                           #this function returns the action that is greedy wrt to the Q-values of the state 's'\r\n",
        "    with torch.no_grad():\r\n",
        "      Q=self.policynet(s)\r\n",
        "    Q=Q.cpu().numpy()\r\n",
        "    return Q\r\n",
        "\r\n",
        "\r\n",
        "\r\n",
        "\"\"\"DEFINE THE ENVIRONMENT, THE PARAMETERS OF THE AGENT AND THE HYPERPARAMETERS\r\n",
        "OF THE NEURAL NETWORK\"\"\"\r\n",
        "env=gym.make('LunarLanderContinuous-v2')                                        #declare the environment variable\r\n",
        "hu1=30                                                                          #size of the first hidden layer of the NN\r\n",
        "hu2=30                                                                          #size of the second hidden layer of the NN\r\n",
        "gamma=0.999                                                                     #the discount factor\r\n",
        "maxIterations=500                                                              #maximum iterations for which is θ updated\r\n",
        "seed=1                                                                          #random seed used for random initialization of the network weights, the environment and various random function\r\n",
        "sigma=.1                                                                        #standard deviation for perturbing θ\r\n",
        "alpha=0.3                                                                      #the learning rate\r\n",
        "momentum=1\r\n",
        "n=50                                                                            ##perturbations of θ\r\n",
        "observations=env.observation_space.shape[0]                                     ##observations or I/P features\r\n",
        "actions=2                                                                       ##continuous actions\r\n",
        "\r\n",
        "\r\n",
        "\r\n",
        "\"\"\"ES\"\"\"\r\n",
        "env.seed(seed)                                                                  #set the seed for the environment\r\n",
        "agent=ESagent(observations,actions,hu1,hu2)                                     #create an object of type 'ESagent'\r\n",
        "results,model=agent.train(env,seed,alpha,momentum,sigma,gamma,n,maxIterations)\r\n",
        "save_checkpoint(model,'model2',1)                                               #save the model in Google Drive\r\n",
        "\r\n",
        "\r\n",
        "\r\n",
        "\"\"\"PLOT THE RESULTS\"\"\"\r\n",
        "trainResults=np.array(results)\r\n",
        "numIterations=trainResults[:,0]                                                 #total #iterations\r\n",
        "numSteps=trainResults[:,1]                                                      #total #time-steps\r\n",
        "meanEvalScore=trainResults[:,3]                                                 #mean evaluation score of all evaluations\r\n",
        "meanEvalScore50=trainResults[:,5]                                               #mean evaluation score for last 50 evaluations\r\n",
        "\r\n",
        "figure1=plt.figure()                                                            #plot mean evaluation score against #iterations\r\n",
        "axis1=figure1.add_subplot(111)\r\n",
        "plt.plot(numIterations,meanEvalScore,linewidth=2)\r\n",
        "plt.ylabel('Mean evaluation score')\r\n",
        "plt.xlabel('#iterations')\r\n",
        "axis1.set_title('Mean evaluation score v/s #iterations')\r\n",
        "\r\n",
        "figure2=plt.figure()                                                            #plot mean evaluation score against #time-steps\r\n",
        "axis2=figure2.add_subplot(111)\r\n",
        "plt.plot(numSteps,meanEvalScore,linewidth=2)\r\n",
        "plt.ylabel('Mean evaluation score')\r\n",
        "plt.xlabel('#time-steps')\r\n",
        "axis2.set_title('Mean evaluation score v/s #time-steps')\r\n",
        "\r\n",
        "figure3=plt.figure()                                                            #plot the #time-steps versus #episodes\r\n",
        "axis3=figure3.add_subplot(111)\r\n",
        "plt.plot(numIterations,numSteps,linewidth=2)\r\n",
        "plt.xlabel('#iterations')\r\n",
        "plt.ylabel('#time-steps')\r\n",
        "axis3.set_title('#time-steps v/s #iterations')\r\n",
        "\r\n",
        "figure4=plt.figure()                                                            #plot mean evaluation score for last 50 evaluations against #iterations\r\n",
        "axis4=figure4.add_subplot(111)\r\n",
        "plt.plot(numIterations,meanEvalScore50,linewidth=2)\r\n",
        "plt.xlabel('#iterations')\r\n",
        "plt.ylabel('Mean evaluation score')\r\n",
        "axis4.set_title('Mean evaluation score for last 50 evaluations v/s #iterations')\r\n",
        "\r\n",
        "figure5=plt.figure()                                                            #plot mean evaluation score for last 50 evaluations against #time-steps\r\n",
        "axis5=figure5.add_subplot(111)\r\n",
        "plt.plot(numSteps,meanEvalScore50,linewidth=2)\r\n",
        "plt.xlabel('#time-steps')\r\n",
        "plt.ylabel('Mean evaluation score')\r\n",
        "axis5.set_title('Mean evaluation score for last 50 evaluations v/s #time-steps')"
      ],
      "execution_count": null,
      "outputs": []
    },
    {
      "cell_type": "markdown",
      "metadata": {
        "id": "-QfzIdjBXK0K"
      },
      "source": [
        "Consolidated results"
      ]
    },
    {
      "cell_type": "code",
      "metadata": {
        "colab": {
          "base_uri": "https://localhost:8080/"
        },
        "id": "wwkdTyABUgsO",
        "outputId": "9bbf7b69-6177-4472-83d1-74b8b2c79ebe"
      },
      "source": [
        "env.seed(1)                                                                  #set the seed for the environment\r\n",
        "agent=ESagent(observations,actions,hu1,hu2) \r\n",
        "results1,model=agent.train(env,1,alpha,momentum,sigma,gamma,n,maxIterations)\r\n",
        "env.seed(6)                                                                  #set the seed for the environment\r\n",
        "agent=ESagent(observations,actions,hu1,hu2) \r\n",
        "results6,model=agent.train(env,6,alpha,momentum,sigma,gamma,n,maxIterations)\r\n",
        "env.seed(25)                                                                  #set the seed for the environment\r\n",
        "agent=ESagent(observations,actions,hu1,hu2) \r\n",
        "results25,model=agent.train(env,25,alpha,momentum,sigma,gamma,n,maxIterations)\r\n",
        "\r\n",
        "\r\n",
        "\"\"\"PLOT THE RESULTS\"\"\"\r\n",
        "trainResults1=np.array(results1)\r\n",
        "numIterations1=trainResults1[:,0]                                                 #total #iterations\r\n",
        "numSteps1=trainResults1[:,1]                                                      #total #time-steps\r\n",
        "meanEvalScore1=trainResults1[:,3]                                                 #mean evaluation score of all evaluations\r\n",
        "trainResults6=np.array(results6)\r\n",
        "numIterations6=trainResults6[:,0]                                                 #total #iterations\r\n",
        "numSteps6=trainResults6[:,1]                                                      #total #time-steps\r\n",
        "meanEvalScore6=trainResults6[:,3]                                                 #mean evaluation score of all evaluations\r\n",
        "trainResults25=np.array(results25)\r\n",
        "numIterations25=trainResults25[:,0]                                                 #total #iterations\r\n",
        "numSteps25=trainResults25[:,1]                                                      #total #time-steps\r\n",
        "meanEvalScore25=trainResults25[:,3]                                                 #mean evaluation score of all evaluations\r\n",
        "\r\n",
        "\r\n",
        "figure1=plt.figure()                                                            #plot mean evaluation score against #iterations\r\n",
        "axis1=figure1.add_subplot(111)\r\n",
        "plt.hold('True')\r\n",
        "plt.plot(numIterations1,meanEvalScore1,'b',label='Seed 1',linewidth=2)\r\n",
        "plt.plot(numIterations6,meanEvalScore6,'g',label='Seed 6',linewidth=2)\r\n",
        "plt.plot(numIterations25,meanEvalScore25,'r',label='Seed 25',linewidth=2)\r\n",
        "plt.legend(loc=\"upper left\")\r\n",
        "plt.ylabel('Mean evaluation score')\r\n",
        "plt.xlabel('#iterations')\r\n",
        "axis1.set_title('Mean evaluation score v/s #iterations')\r\n",
        "\r\n",
        "figure2=plt.figure()                                                            #plot mean evaluation score against #time-steps\r\n",
        "axis2=figure2.add_subplot(111)\r\n",
        "plt.hold('True')\r\n",
        "plt.plot(numSteps1,meanEvalScore1,'b',label='Seed 1',linewidth=2)\r\n",
        "plt.plot(numSteps6,meanEvalScore6,'g',label='Seed 6',linewidth=2)\r\n",
        "plt.plot(numSteps25,meanEvalScore25,'r',label='Seed 25',linewidth=2)\r\n",
        "plt.legend(loc=\"upper left\")\r\n",
        "plt.ylabel('Mean evaluation score')\r\n",
        "plt.xlabel('#time-steps')\r\n",
        "axis2.set_title('Mean evaluation score v/s #time-steps')\r\n",
        "\r\n",
        "figure3=plt.figure()                                                            #plot the #time-steps versus #episodes\r\n",
        "axis3=figure3.add_subplot(111)\r\n",
        "plt.hold('True')\r\n",
        "plt.plot(numIterations1,numSteps1,'b',label='Seed 1',linewidth=2)\r\n",
        "plt.plot(numIterations6,numSteps6,'g',label='Seed 6',linewidth=2)\r\n",
        "plt.plot(numIterations25,numSteps25,'r',label='Seed 25',linewidth=2)\r\n",
        "plt.legend(loc=\"upper left\")\r\n",
        "plt.xlabel('#iterations')\r\n",
        "plt.ylabel('#time-steps')\r\n",
        "axis3.set_title('#time-steps v/s #iterations')"
      ],
      "execution_count": null,
      "outputs": [
        {
          "output_type": "stream",
          "text": [
            "/usr/local/lib/python3.7/dist-packages/ipykernel_launcher.py:73: UserWarning: To copy construct from a tensor, it is recommended to use sourceTensor.clone().detach() or sourceTensor.clone().detach().requires_grad_(True), rather than torch.tensor(sourceTensor).\n"
          ],
          "name": "stderr"
        },
        {
          "output_type": "stream",
          "text": [
            "Iteration#: 1\tStep#: 4342\tEvaluation reward: -131.05\tμ evaluation reward: -131.05\tσ of evaluation reward: 0.00\tμ₅₀ evaluation reward: -131.05\n",
            "Iteration#: 2\tStep#: 8371\tEvaluation reward: -120.16\tμ evaluation reward: -125.60\tσ of evaluation reward: 5.45\tμ₅₀ evaluation reward: -125.60\n",
            "Iteration#: 3\tStep#: 12446\tEvaluation reward: -102.53\tμ evaluation reward: -117.91\tσ of evaluation reward: 11.75\tμ₅₀ evaluation reward: -117.91\n",
            "Iteration#: 4\tStep#: 15979\tEvaluation reward: -107.17\tμ evaluation reward: -115.23\tσ of evaluation reward: 11.19\tμ₅₀ evaluation reward: -115.23\n",
            "Iteration#: 5\tStep#: 19607\tEvaluation reward: -117.82\tμ evaluation reward: -115.75\tσ of evaluation reward: 10.06\tμ₅₀ evaluation reward: -115.75\n",
            "Iteration#: 6\tStep#: 23163\tEvaluation reward: -159.43\tμ evaluation reward: -123.03\tσ of evaluation reward: 18.69\tμ₅₀ evaluation reward: -123.03\n",
            "Iteration#: 7\tStep#: 26660\tEvaluation reward: -124.38\tμ evaluation reward: -123.22\tσ of evaluation reward: 17.31\tμ₅₀ evaluation reward: -123.22\n",
            "Iteration#: 8\tStep#: 30364\tEvaluation reward: -88.40\tμ evaluation reward: -118.87\tσ of evaluation reward: 19.87\tμ₅₀ evaluation reward: -118.87\n",
            "Iteration#: 9\tStep#: 33930\tEvaluation reward: -108.77\tμ evaluation reward: -117.75\tσ of evaluation reward: 19.00\tμ₅₀ evaluation reward: -117.75\n",
            "Iteration#: 10\tStep#: 37436\tEvaluation reward: -137.79\tμ evaluation reward: -119.75\tσ of evaluation reward: 19.00\tμ₅₀ evaluation reward: -119.75\n",
            "Iteration#: 11\tStep#: 41035\tEvaluation reward: -104.72\tμ evaluation reward: -118.39\tσ of evaluation reward: 18.63\tμ₅₀ evaluation reward: -118.39\n",
            "Iteration#: 12\tStep#: 44632\tEvaluation reward: -127.94\tμ evaluation reward: -119.18\tσ of evaluation reward: 18.03\tμ₅₀ evaluation reward: -119.18\n",
            "Iteration#: 13\tStep#: 48026\tEvaluation reward: -148.84\tμ evaluation reward: -121.46\tσ of evaluation reward: 19.04\tμ₅₀ evaluation reward: -121.46\n",
            "Iteration#: 14\tStep#: 51708\tEvaluation reward: -155.03\tμ evaluation reward: -123.86\tσ of evaluation reward: 20.28\tμ₅₀ evaluation reward: -123.86\n",
            "Iteration#: 15\tStep#: 55304\tEvaluation reward: -194.70\tμ evaluation reward: -128.58\tσ of evaluation reward: 26.38\tμ₅₀ evaluation reward: -128.58\n",
            "Iteration#: 16\tStep#: 58711\tEvaluation reward: -147.20\tμ evaluation reward: -129.75\tσ of evaluation reward: 25.94\tμ₅₀ evaluation reward: -129.75\n",
            "Iteration#: 17\tStep#: 62241\tEvaluation reward: -144.25\tμ evaluation reward: -130.60\tσ of evaluation reward: 25.40\tμ₅₀ evaluation reward: -130.60\n",
            "Iteration#: 18\tStep#: 65800\tEvaluation reward: -129.31\tμ evaluation reward: -130.53\tσ of evaluation reward: 24.68\tμ₅₀ evaluation reward: -130.53\n",
            "Iteration#: 19\tStep#: 69584\tEvaluation reward: -125.89\tμ evaluation reward: -130.28\tσ of evaluation reward: 24.05\tμ₅₀ evaluation reward: -130.28\n",
            "Iteration#: 20\tStep#: 73040\tEvaluation reward: -112.72\tμ evaluation reward: -129.41\tσ of evaluation reward: 23.75\tμ₅₀ evaluation reward: -129.41\n"
          ],
          "name": "stdout"
        }
      ]
    },
    {
      "cell_type": "markdown",
      "metadata": {
        "id": "u2B6Z4wYuy8o"
      },
      "source": [
        "Test the policy"
      ]
    },
    {
      "cell_type": "code",
      "metadata": {
        "id": "v7p3_BzGrwc6"
      },
      "source": [
        "display=Display(visible=0,size=(900,400))\r\n",
        "display.start()\r\n",
        "\"\"\"TESTING\"\"\"\r\n",
        "env=gym.make(\"LunarLanderContinuous-v2\")\r\n",
        "env=Monitor(env,'./video',force=True,video_callable=lambda episode:True)\r\n",
        "#env.seed(10)\r\n",
        "s=env.reset()\r\n",
        "terminal=False\r\n",
        "episodeReward=0\r\n",
        "while not terminal:\r\n",
        "  s=torch.tensor(s).float().to(device)\r\n",
        "  action=agent.greedy(s)\r\n",
        "  #action=env.action_space.sample()\r\n",
        "  s,r,terminal,info=env.step(action)\r\n",
        "  episodeReward+=r\r\n",
        "env.close()\r\n",
        "print('\\nEpisode reward:'+str(episodeReward))\r\n",
        "show_video('./video')"
      ],
      "execution_count": null,
      "outputs": []
    }
  ]
}